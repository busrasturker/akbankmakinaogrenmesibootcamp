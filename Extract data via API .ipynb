{
  "nbformat": 4,
  "nbformat_minor": 0,
  "metadata": {
    "colab": {
      "provenance": [],
      "include_colab_link": true
    },
    "kernelspec": {
      "name": "python3",
      "display_name": "Python 3"
    },
    "language_info": {
      "name": "python"
    }
  },
  "cells": [
    {
      "cell_type": "markdown",
      "metadata": {
        "id": "view-in-github",
        "colab_type": "text"
      },
      "source": [
        "<a href=\"https://colab.research.google.com/github/busrasturker/akbankmakinaogrenmesibootcamp/blob/main/Extract%20data%20via%20API%20.ipynb\" target=\"_parent\"><img src=\"https://colab.research.google.com/assets/colab-badge.svg\" alt=\"Open In Colab\"/></a>"
      ]
    },
    {
      "cell_type": "code",
      "execution_count": null,
      "metadata": {
        "id": "-3zh_q2wiKXm",
        "colab": {
          "base_uri": "https://localhost:8080/"
        },
        "outputId": "43b4bca8-3b24-4a54-aa09-77b7a47a296c"
      },
      "outputs": [
        {
          "output_type": "stream",
          "name": "stdout",
          "text": [
            "{\n",
            "    \"id\": \"ff8081818b8f5d07018bb8dd02352dbc\",\n",
            "    \"name\": \"Apple MacBook Pro 16\",\n",
            "    \"createdAt\": \"2023-11-10T10:52:53.685+00:00\",\n",
            "    \"data\": {\n",
            "        \"year\": 2019,\n",
            "        \"price\": 1849.99,\n",
            "        \"CPU model\": \"Intel Core i9\",\n",
            "        \"Hard disk size\": \"1 TB\"\n",
            "    }\n",
            "}\n"
          ]
        }
      ],
      "source": [
        "import requests\n",
        "import json\n",
        "def json_print(json_data):\n",
        "  print(json.dumps(json.loads(json_data), indent=4))\n",
        "\n",
        "headers = {\"content-type\": \"application/json\"}\n",
        "payload = json.dumps({\n",
        "   \"name\": \"Apple MacBook Pro 16\",\n",
        "   \"data\": {\n",
        "      \"year\": 2019,\n",
        "      \"price\": 1849.99,\n",
        "      \"CPU model\": \"Intel Core i9\",\n",
        "      \"Hard disk size\": \"1 TB\"\n",
        "   }\n",
        "})\n",
        "requestUrl = \"https://api.restful-api.dev/objects\"\n",
        "r = requests.post(requestUrl,headers=headers, data= payload)\n",
        "\n",
        "json_print(r.content)\n"
      ]
    },
    {
      "cell_type": "code",
      "source": [
        "import requests\n",
        "import json\n",
        "import time\n",
        "def json_print(json_data):\n",
        "  print(json.dumps(json.loads(json_data), indent=4))\n",
        "\n",
        "\n",
        "headers = {\"content-type\": \"application/json\"}\n",
        "payload = json.dumps({ \"name\": \"Starbucks coffee\", \"data\": { \"color\": \"brown\", \"generation\": \"3rd\", \"price\": 135}})\n",
        "\n",
        "requestUrl = \"https://api.restful-api.dev/objects\"\n",
        "r = requests.post(requestUrl, data=payload,headers = headers)\n",
        "#json_print(r.content)\n",
        "print(r.contents)\n",
        "\n"
      ],
      "metadata": {
        "id": "B76d3-oGe3Q0",
        "colab": {
          "base_uri": "https://localhost:8080/",
          "height": 228
        },
        "outputId": "2342befe-52eb-45c3-9249-ffef81b046d9"
      },
      "execution_count": null,
      "outputs": [
        {
          "output_type": "error",
          "ename": "AttributeError",
          "evalue": "ignored",
          "traceback": [
            "\u001b[0;31m---------------------------------------------------------------------------\u001b[0m",
            "\u001b[0;31mAttributeError\u001b[0m                            Traceback (most recent call last)",
            "\u001b[0;32m<ipython-input-2-a116bec5da26>\u001b[0m in \u001b[0;36m<cell line: 14>\u001b[0;34m()\u001b[0m\n\u001b[1;32m     12\u001b[0m \u001b[0mr\u001b[0m \u001b[0;34m=\u001b[0m \u001b[0mrequests\u001b[0m\u001b[0;34m.\u001b[0m\u001b[0mpost\u001b[0m\u001b[0;34m(\u001b[0m\u001b[0mrequestUrl\u001b[0m\u001b[0;34m,\u001b[0m \u001b[0mdata\u001b[0m\u001b[0;34m=\u001b[0m\u001b[0mpayload\u001b[0m\u001b[0;34m,\u001b[0m\u001b[0mheaders\u001b[0m \u001b[0;34m=\u001b[0m \u001b[0mheaders\u001b[0m\u001b[0;34m)\u001b[0m\u001b[0;34m\u001b[0m\u001b[0;34m\u001b[0m\u001b[0m\n\u001b[1;32m     13\u001b[0m \u001b[0;31m#json_print(r.content)\u001b[0m\u001b[0;34m\u001b[0m\u001b[0;34m\u001b[0m\u001b[0m\n\u001b[0;32m---> 14\u001b[0;31m \u001b[0mprint\u001b[0m\u001b[0;34m(\u001b[0m\u001b[0mr\u001b[0m\u001b[0;34m.\u001b[0m\u001b[0mcontents\u001b[0m\u001b[0;34m)\u001b[0m\u001b[0;34m\u001b[0m\u001b[0;34m\u001b[0m\u001b[0m\n\u001b[0m\u001b[1;32m     15\u001b[0m \u001b[0;34m\u001b[0m\u001b[0m\n",
            "\u001b[0;31mAttributeError\u001b[0m: 'Response' object has no attribute 'contents'"
          ]
        }
      ]
    },
    {
      "cell_type": "code",
      "source": [
        "url = \"https://swapi.dev/api/planets/?page=2\"\n",
        "r = requests.get(url)\n",
        "r.json()[\"results\"][0][\"name\"]\n",
        "r = requests.get(r.json()[\"next\"])\n",
        "json_print(r.text)"
      ],
      "metadata": {
        "id": "PCOfqs9Ky81D",
        "colab": {
          "base_uri": "https://localhost:8080/"
        },
        "outputId": "9333da2b-2a16-4239-b046-0e4d9c70ea79"
      },
      "execution_count": null,
      "outputs": [
        {
          "output_type": "stream",
          "name": "stdout",
          "text": [
            "{\n",
            "    \"count\": 60,\n",
            "    \"next\": \"https://swapi.dev/api/planets/?page=4\",\n",
            "    \"previous\": \"https://swapi.dev/api/planets/?page=2\",\n",
            "    \"results\": [\n",
            "        {\n",
            "            \"name\": \"Eriadu\",\n",
            "            \"rotation_period\": \"24\",\n",
            "            \"orbital_period\": \"360\",\n",
            "            \"diameter\": \"13490\",\n",
            "            \"climate\": \"polluted\",\n",
            "            \"gravity\": \"1 standard\",\n",
            "            \"terrain\": \"cityscape\",\n",
            "            \"surface_water\": \"unknown\",\n",
            "            \"population\": \"22000000000\",\n",
            "            \"residents\": [\n",
            "                \"https://swapi.dev/api/people/12/\"\n",
            "            ],\n",
            "            \"films\": [],\n",
            "            \"created\": \"2014-12-10T16:26:54.384000Z\",\n",
            "            \"edited\": \"2014-12-20T20:58:18.454000Z\",\n",
            "            \"url\": \"https://swapi.dev/api/planets/21/\"\n",
            "        },\n",
            "        {\n",
            "            \"name\": \"Corellia\",\n",
            "            \"rotation_period\": \"25\",\n",
            "            \"orbital_period\": \"329\",\n",
            "            \"diameter\": \"11000\",\n",
            "            \"climate\": \"temperate\",\n",
            "            \"gravity\": \"1 standard\",\n",
            "            \"terrain\": \"plains, urban, hills, forests\",\n",
            "            \"surface_water\": \"70\",\n",
            "            \"population\": \"3000000000\",\n",
            "            \"residents\": [\n",
            "                \"https://swapi.dev/api/people/14/\",\n",
            "                \"https://swapi.dev/api/people/18/\"\n",
            "            ],\n",
            "            \"films\": [],\n",
            "            \"created\": \"2014-12-10T16:49:12.453000Z\",\n",
            "            \"edited\": \"2014-12-20T20:58:18.456000Z\",\n",
            "            \"url\": \"https://swapi.dev/api/planets/22/\"\n",
            "        },\n",
            "        {\n",
            "            \"name\": \"Rodia\",\n",
            "            \"rotation_period\": \"29\",\n",
            "            \"orbital_period\": \"305\",\n",
            "            \"diameter\": \"7549\",\n",
            "            \"climate\": \"hot\",\n",
            "            \"gravity\": \"1 standard\",\n",
            "            \"terrain\": \"jungles, oceans, urban, swamps\",\n",
            "            \"surface_water\": \"60\",\n",
            "            \"population\": \"1300000000\",\n",
            "            \"residents\": [\n",
            "                \"https://swapi.dev/api/people/15/\"\n",
            "            ],\n",
            "            \"films\": [],\n",
            "            \"created\": \"2014-12-10T17:03:28.110000Z\",\n",
            "            \"edited\": \"2014-12-20T20:58:18.458000Z\",\n",
            "            \"url\": \"https://swapi.dev/api/planets/23/\"\n",
            "        },\n",
            "        {\n",
            "            \"name\": \"Nal Hutta\",\n",
            "            \"rotation_period\": \"87\",\n",
            "            \"orbital_period\": \"413\",\n",
            "            \"diameter\": \"12150\",\n",
            "            \"climate\": \"temperate\",\n",
            "            \"gravity\": \"1 standard\",\n",
            "            \"terrain\": \"urban, oceans, swamps, bogs\",\n",
            "            \"surface_water\": \"unknown\",\n",
            "            \"population\": \"7000000000\",\n",
            "            \"residents\": [\n",
            "                \"https://swapi.dev/api/people/16/\"\n",
            "            ],\n",
            "            \"films\": [],\n",
            "            \"created\": \"2014-12-10T17:11:29.452000Z\",\n",
            "            \"edited\": \"2014-12-20T20:58:18.460000Z\",\n",
            "            \"url\": \"https://swapi.dev/api/planets/24/\"\n",
            "        },\n",
            "        {\n",
            "            \"name\": \"Dantooine\",\n",
            "            \"rotation_period\": \"25\",\n",
            "            \"orbital_period\": \"378\",\n",
            "            \"diameter\": \"9830\",\n",
            "            \"climate\": \"temperate\",\n",
            "            \"gravity\": \"1 standard\",\n",
            "            \"terrain\": \"oceans, savannas, mountains, grasslands\",\n",
            "            \"surface_water\": \"unknown\",\n",
            "            \"population\": \"1000\",\n",
            "            \"residents\": [],\n",
            "            \"films\": [],\n",
            "            \"created\": \"2014-12-10T17:23:29.896000Z\",\n",
            "            \"edited\": \"2014-12-20T20:58:18.461000Z\",\n",
            "            \"url\": \"https://swapi.dev/api/planets/25/\"\n",
            "        },\n",
            "        {\n",
            "            \"name\": \"Bestine IV\",\n",
            "            \"rotation_period\": \"26\",\n",
            "            \"orbital_period\": \"680\",\n",
            "            \"diameter\": \"6400\",\n",
            "            \"climate\": \"temperate\",\n",
            "            \"gravity\": \"unknown\",\n",
            "            \"terrain\": \"rocky islands, oceans\",\n",
            "            \"surface_water\": \"98\",\n",
            "            \"population\": \"62000000\",\n",
            "            \"residents\": [\n",
            "                \"https://swapi.dev/api/people/19/\"\n",
            "            ],\n",
            "            \"films\": [],\n",
            "            \"created\": \"2014-12-12T11:16:55.078000Z\",\n",
            "            \"edited\": \"2014-12-20T20:58:18.463000Z\",\n",
            "            \"url\": \"https://swapi.dev/api/planets/26/\"\n",
            "        },\n",
            "        {\n",
            "            \"name\": \"Ord Mantell\",\n",
            "            \"rotation_period\": \"26\",\n",
            "            \"orbital_period\": \"334\",\n",
            "            \"diameter\": \"14050\",\n",
            "            \"climate\": \"temperate\",\n",
            "            \"gravity\": \"1 standard\",\n",
            "            \"terrain\": \"plains, seas, mesas\",\n",
            "            \"surface_water\": \"10\",\n",
            "            \"population\": \"4000000000\",\n",
            "            \"residents\": [],\n",
            "            \"films\": [\n",
            "                \"https://swapi.dev/api/films/2/\"\n",
            "            ],\n",
            "            \"created\": \"2014-12-15T12:23:41.661000Z\",\n",
            "            \"edited\": \"2014-12-20T20:58:18.464000Z\",\n",
            "            \"url\": \"https://swapi.dev/api/planets/27/\"\n",
            "        },\n",
            "        {\n",
            "            \"name\": \"unknown\",\n",
            "            \"rotation_period\": \"0\",\n",
            "            \"orbital_period\": \"0\",\n",
            "            \"diameter\": \"0\",\n",
            "            \"climate\": \"unknown\",\n",
            "            \"gravity\": \"unknown\",\n",
            "            \"terrain\": \"unknown\",\n",
            "            \"surface_water\": \"unknown\",\n",
            "            \"population\": \"unknown\",\n",
            "            \"residents\": [\n",
            "                \"https://swapi.dev/api/people/20/\",\n",
            "                \"https://swapi.dev/api/people/23/\",\n",
            "                \"https://swapi.dev/api/people/29/\",\n",
            "                \"https://swapi.dev/api/people/32/\",\n",
            "                \"https://swapi.dev/api/people/75/\"\n",
            "            ],\n",
            "            \"films\": [],\n",
            "            \"created\": \"2014-12-15T12:25:59.569000Z\",\n",
            "            \"edited\": \"2014-12-20T20:58:18.466000Z\",\n",
            "            \"url\": \"https://swapi.dev/api/planets/28/\"\n",
            "        },\n",
            "        {\n",
            "            \"name\": \"Trandosha\",\n",
            "            \"rotation_period\": \"25\",\n",
            "            \"orbital_period\": \"371\",\n",
            "            \"diameter\": \"0\",\n",
            "            \"climate\": \"arid\",\n",
            "            \"gravity\": \"0.62 standard\",\n",
            "            \"terrain\": \"mountains, seas, grasslands, deserts\",\n",
            "            \"surface_water\": \"unknown\",\n",
            "            \"population\": \"42000000\",\n",
            "            \"residents\": [\n",
            "                \"https://swapi.dev/api/people/24/\"\n",
            "            ],\n",
            "            \"films\": [],\n",
            "            \"created\": \"2014-12-15T12:53:47.695000Z\",\n",
            "            \"edited\": \"2014-12-20T20:58:18.468000Z\",\n",
            "            \"url\": \"https://swapi.dev/api/planets/29/\"\n",
            "        },\n",
            "        {\n",
            "            \"name\": \"Socorro\",\n",
            "            \"rotation_period\": \"20\",\n",
            "            \"orbital_period\": \"326\",\n",
            "            \"diameter\": \"0\",\n",
            "            \"climate\": \"arid\",\n",
            "            \"gravity\": \"1 standard\",\n",
            "            \"terrain\": \"deserts, mountains\",\n",
            "            \"surface_water\": \"unknown\",\n",
            "            \"population\": \"300000000\",\n",
            "            \"residents\": [\n",
            "                \"https://swapi.dev/api/people/25/\"\n",
            "            ],\n",
            "            \"films\": [],\n",
            "            \"created\": \"2014-12-15T12:56:31.121000Z\",\n",
            "            \"edited\": \"2014-12-20T20:58:18.469000Z\",\n",
            "            \"url\": \"https://swapi.dev/api/planets/30/\"\n",
            "        }\n",
            "    ]\n",
            "}\n"
          ]
        }
      ]
    },
    {
      "cell_type": "code",
      "source": [
        "r = requests.get(\"https://api.restful-api.dev/objects/ff8081818b8f5d07018bae9fadf821fb\")\n",
        "r.reason"
      ],
      "metadata": {
        "colab": {
          "base_uri": "https://localhost:8080/",
          "height": 36
        },
        "id": "KcFvMqTpn_zi",
        "outputId": "3c4ebe64-70c0-4145-9ef4-ee3d5f5656a3"
      },
      "execution_count": null,
      "outputs": [
        {
          "output_type": "execute_result",
          "data": {
            "text/plain": [
              "'Not Found'"
            ],
            "application/vnd.google.colaboratory.intrinsic+json": {
              "type": "string"
            }
          },
          "metadata": {},
          "execution_count": 4
        }
      ]
    },
    {
      "cell_type": "code",
      "source": [
        "requestUrl = \"https://api.restful-api.dev/objects/ff8081818b8f5d07018bae9fadf821fb\"\n",
        "r = requests.delete(requestUrl, data=payload,headers = headers)\n",
        "json_print(r.content)"
      ],
      "metadata": {
        "id": "S6h_MqlkqhaP",
        "colab": {
          "base_uri": "https://localhost:8080/"
        },
        "outputId": "606285b7-0d51-4d4f-aa97-e4eb39350357"
      },
      "execution_count": null,
      "outputs": [
        {
          "output_type": "stream",
          "name": "stdout",
          "text": [
            "{\n",
            "    \"error\": \"Object with id = ff8081818b8f5d07018bae9fadf821fb doesn't exist.\"\n",
            "}\n"
          ]
        }
      ]
    },
    {
      "cell_type": "code",
      "source": [
        "headers = {\"content-type\": \"application/json\"}\n",
        "payload = json.dumps({ \"name\": \"Starbucks coffee\", \"data\": { \"color\": \"brown\", \"generation\": \"3rd\", \"price\": 105, \"taste\": \"awful\"} })\n",
        "\n",
        "requestUrl = \"https://api.restful-api.dev/objects/ff8081818b8f5d07018bae9fadf821fb\"\n",
        "r = requests.put(requestUrl, data=payload,headers = headers)\n",
        "json_print(r.content)"
      ],
      "metadata": {
        "id": "2zejspPBpoQH",
        "colab": {
          "base_uri": "https://localhost:8080/"
        },
        "outputId": "23c70dc7-c283-47d7-f1ea-70a36ed92b6a"
      },
      "execution_count": null,
      "outputs": [
        {
          "output_type": "stream",
          "name": "stdout",
          "text": [
            "{\n",
            "    \"error\": \"The Object with id = ff8081818b8f5d07018bae9fadf821fb doesn't exist. Please provide an object id which exists or generate a new Object using POST request and capture the id of it to use it as part of PUT request after that.\"\n",
            "}\n"
          ]
        }
      ]
    },
    {
      "cell_type": "code",
      "source": [],
      "metadata": {
        "id": "TdA8iR2Q736d"
      },
      "execution_count": null,
      "outputs": []
    }
  ]
}